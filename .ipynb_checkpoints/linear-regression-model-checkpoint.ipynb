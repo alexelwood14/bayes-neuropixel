{
 "cells": [
  {
   "cell_type": "markdown",
   "metadata": {},
   "source": [
    "# Linear Regression Model #\n",
    "\n",
    "The theory is that increased pupil area in the test subject indicates increased neural activity. If this is correct then it should be possible to use linear regression to model the spike counts."
   ]
  },
  {
   "cell_type": "code",
   "execution_count": 1,
   "metadata": {},
   "outputs": [],
   "source": [
    "using CSV\n",
    "using DataFrames\n",
    "using Turing\n",
    "using MCMCChains\n",
    "using Plots\n",
    "using StatsPlots\n",
    "using StatsBase\n",
    "using Distributions\n",
    "using NPZ\n",
    "using Statistics"
   ]
  },
  {
   "cell_type": "markdown",
   "metadata": {},
   "source": [
    "## Importing ##"
   ]
  },
  {
   "cell_type": "code",
   "execution_count": 2,
   "metadata": {},
   "outputs": [
    {
     "data": {
      "text/plain": [
       "267759-element Vector{Float64}:\n",
       "   15.982835732952108\n",
       "   15.992836839228154\n",
       "   16.0028379455042\n",
       "   16.012839051780247\n",
       "   16.022840158056297\n",
       "   16.03284126433234\n",
       "   16.042842370608387\n",
       "   16.052843476884433\n",
       "   16.06284458316048\n",
       "   16.072845689436527\n",
       "   16.082846795712577\n",
       "   16.092847901988623\n",
       "   16.10284900826467\n",
       "    ⋮\n",
       " 2693.748894411977\n",
       " 2693.7588955182528\n",
       " 2693.768896624529\n",
       " 2693.778897730805\n",
       " 2693.7888988370814\n",
       " 2693.7988999433574\n",
       " 2693.8089010496333\n",
       " 2693.8189021559097\n",
       " 2693.828903262185\n",
       " 2693.8389043684615\n",
       " 2693.8489054747374\n",
       " 2693.8589065810133"
      ]
     },
     "execution_count": 2,
     "metadata": {},
     "output_type": "execute_result"
    }
   ],
   "source": [
    "data_path = \"spikeAndBehavioralData/allData/Cori_2016-12-14/\"\n",
    "eye_area = npzread(\"$(data_path)eye.area.npy\")\n",
    "clusterids = npzread(\"$(data_path)spikes.clusters.npy\")[:] \n",
    "spiketimes = npzread(\"$(data_path)spikes.times.npy\")[:]\n",
    "eyetimes = npzread(\"$(data_path)eye.timestamps.npy\")[:,2]"
   ]
  },
  {
   "cell_type": "markdown",
   "metadata": {},
   "source": [
    "## Pre-Processing ##\n",
    "\n",
    "The first step is to process the data for when each cluster spikes into an array. Each row should represent a cluster and each column should represent a time bin. Each entry to the array is the amount of times that that particular neuron spiked over the period of the time bin (e.g. 1 second)."
   ]
  },
  {
   "cell_type": "code",
   "execution_count": null,
   "metadata": {},
   "outputs": [],
   "source": [
    "# count spikes for each cluster\n",
    "unique_clusterids = sort(unique(clusterids))\n",
    "nclusters = length(unique_clusterids) # number of clusters\n",
    "binedges = -0.5 .+ append!(unique_clusterids,clusterids[end]+1)\n",
    "h_spikecounts = StatsBase.fit(Histogram,clusterids[:],binedges)\n",
    "spikecounts = h_spikecounts.weights\n",
    "spikerates = spikecounts./maximum(spiketimes)\n",
    "\n",
    "# get spike counts per timebin\n",
    "dt = 1 # seconds\n",
    "maxtime = maximum(spiketimes)\n",
    "timebin_edges = (20:dt:maxtime-20)\n",
    "nt = length(timebin_edges)\n",
    "spikecount_array = Array{Int64}(undef,nclusters,nt-1)\n",
    "\n",
    "for i = 1:nclusters\n",
    "    inds = findall(clusterids.==i)\n",
    "    htemp = StatsBase.fit(Histogram,spiketimes[:][inds],timebin_edges)\n",
    "    spikecount_array[i,:] = htemp.weights\n",
    "end"
   ]
  },
  {
   "cell_type": "markdown",
   "metadata": {},
   "source": [
    "The second step is to reformat the eye area data to rescale the time frame. This is necessary as the eye area data was captured using a camera the cluster spiketimes was captured using a neuropixel probe, meaning that although they record for the same time period, the time scales are incorrect. "
   ]
  },
  {
   "cell_type": "code",
   "execution_count": null,
   "metadata": {},
   "outputs": [],
   "source": [
    "# Remove all negative areas from the eye_area data\n",
    "for i in 1:length(eye_area)\n",
    "    if eye_area[i] < 0\n",
    "        eye_area[i] = 0\n",
    "    end\n",
    "end\n",
    "\n",
    "# Define the bounderies for the timebins for eye areas\n",
    "dt = 1 # seconds\n",
    "maxtime = maximum(spiketimes)\n",
    "timebin_edges = (20:dt:maxtime-20)\n",
    "nt = length(timebin_edges)\n",
    "eye_area_bin = zeros(Float32, nt-1)\n",
    "\n",
    "# Generate the average eye area for each time bin.\n",
    "j = 1\n",
    "for i in 1:nt-1\n",
    "    count = 0\n",
    "    while eyetimes[j] <= timebin_edges[i+1]\n",
    "        if eyetimes[j] >= timebin_edges[i]\n",
    "            eye_area_bin[i] += eye_area[j]\n",
    "            count += 1\n",
    "        end\n",
    "        j += 1\n",
    "    end\n",
    "    eye_area_bin[i] /= count\n",
    "end\n",
    "\n",
    "plot(eye_area_bin)\n"
   ]
  },
  {
   "cell_type": "markdown",
   "metadata": {},
   "source": [
    "We are now left with eye area averages which correspond to the same time period as each spikecount for each neuron. "
   ]
  },
  {
   "cell_type": "code",
   "execution_count": null,
   "metadata": {},
   "outputs": [],
   "source": [
    "println(\"The number of clusters is $(length(spikecount_array[:,1]))\")\n",
    "println(\"Number of spikecount timebins is $(length(spikecount_array[1,:]))\")\n",
    "println(\"Number of eye area averages is $(length(eye_area_bin))\")\n",
    "\n",
    "summed_spikecounts = zeros(Float32, length(spikecount_array[1,:]))\n",
    "for cluster in 1:length(spikecount_array[:,1])\n",
    "    summed_spikecounts += spikecount_array[cluster,:]\n",
    "end\n",
    "\n",
    "average_spikecounts = summed_spikecounts ./ length(spikecount_array[:,1])\n",
    "\n",
    "println(\"There is a Pearson correlation coefficient of \", cor(average_spikecounts, eye_area_bin), \" between the two data\")\n",
    "\n",
    "plot(eye_area_bin, label=\"eye area\")\n",
    "plot!(average_spikecounts, label=\"averaged spikecounts\")"
   ]
  },
  {
   "cell_type": "code",
   "execution_count": null,
   "metadata": {},
   "outputs": [],
   "source": [
    "scatter(eye_area_bin, average_spikecounts, label=\"Average Spikecounts against Eye Area\")\n",
    "xlabel!(\"Eye Area\")\n",
    "ylabel!(\"Average Spikecounts\")"
   ]
  },
  {
   "cell_type": "markdown",
   "metadata": {},
   "source": [
    "## Modeling ##\n",
    "\n",
    "### Linear Regression Model ###\n",
    "\n",
    "We can fit a regression line for the average spikecounts.\n",
    "\n",
    "$$average\\_{sc}_i \\sim Normal(\\mu_i, \\sigma)$$\n",
    "\n",
    "where $i$ is the index of a time bin. The mean of the Normal distribution can be modelled by a linear function.\n",
    "\n",
    "$$\\mu_i = a + b*eye\\_ area_i$$\n",
    "\n",
    "$a$, $b$ and $\\sigma$ are priors modelled by\n",
    "\n",
    "$$a \\sim Gamma(2, 2)$$ \n",
    "$$b \\sim Normal(0, 1)$$ \n",
    "$$\\sigma \\sim Gamma(2, 2)$$"
   ]
  },
  {
   "cell_type": "code",
   "execution_count": null,
   "metadata": {},
   "outputs": [],
   "source": [
    "@model function linear_regression(eye_area_bin, average_spikecounts)\n",
    "    # Priors\n",
    "    a ~ Gamma(2, 2)\n",
    "    b ~ Normal(0, 1)\n",
    "    sigma ~ Gamma(2, 2)\n",
    "\n",
    "    mu = a .+ b * eye_area_bin\n",
    "\n",
    "    return average_spikecounts ~ MvNormal(mu, sigma)\n",
    "end"
   ]
  },
  {
   "cell_type": "code",
   "execution_count": null,
   "metadata": {
    "scrolled": true
   },
   "outputs": [],
   "source": [
    "md = linear_regression(eye_area_bin, average_spikecounts)\n",
    "chain = sample(md, NUTS(0.65), MCMCThreads(), 1000, 4)"
   ]
  },
  {
   "cell_type": "code",
   "execution_count": null,
   "metadata": {},
   "outputs": [],
   "source": [
    "plot(chain)"
   ]
  },
  {
   "cell_type": "code",
   "execution_count": null,
   "metadata": {},
   "outputs": [],
   "source": [
    "plot(\n",
    "\ttraceplot(group(chain, :a), title=\"traceplot\"),\n",
    "\tmeanplot(group(chain, :a), title=\"meanplot\"),\n",
    "\tdensity(group(chain, :a), title=\"density\"),\n",
    "\tautocorplot(group(chain, :a), title=\"autocorplot\"),\n",
    "\tsize=(1200, 600),\n",
    "    plot_title = \"Analysis of parameter a\"\n",
    ")"
   ]
  },
  {
   "cell_type": "code",
   "execution_count": null,
   "metadata": {},
   "outputs": [],
   "source": [
    "plot(\n",
    "\ttraceplot(group(chain, :b), title=\"traceplot\"),\n",
    "\tmeanplot(group(chain, :b), title=\"meanplot\"),\n",
    "\tdensity(group(chain, :b), title=\"density\"),\n",
    "\tautocorplot(group(chain, :b), title=\"autocorplot\"),\n",
    "\tsize=(1200, 600),\n",
    "    plot_title = \"Analysis of parameter b\"\n",
    ")"
   ]
  },
  {
   "cell_type": "code",
   "execution_count": null,
   "metadata": {},
   "outputs": [],
   "source": [
    "plot(\n",
    "\ttraceplot(group(chain, :sigma), title=\"traceplot\"),\n",
    "\tmeanplot(group(chain, :sigma), title=\"meanplot\"),\n",
    "\tdensity(group(chain, :sigma), title=\"density\"),\n",
    "\tautocorplot(group(chain, :sigma), title=\"autocorplot\"),\n",
    "\tsize=(1200, 600),\n",
    "    plot_title = \"Analysis of parameter sigma\"\n",
    ")"
   ]
  }
 ],
 "metadata": {
  "kernelspec": {
   "display_name": "Julia 1.7.2",
   "language": "julia",
   "name": "julia-1.7"
  },
  "language_info": {
   "file_extension": ".jl",
   "mimetype": "application/julia",
   "name": "julia",
   "version": "1.7.2"
  }
 },
 "nbformat": 4,
 "nbformat_minor": 4
}
